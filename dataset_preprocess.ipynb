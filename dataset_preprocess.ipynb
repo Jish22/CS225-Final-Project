{
 "cells": [
  {
   "cell_type": "code",
   "execution_count": 1,
   "source": [
    "import pandas as pd\n",
    "df = pd.read_csv('NBA_Season_Stats.csv')\n",
    "\n",
    "df = df.drop(df.index[24624:]) #indicies beyond are per game instead of per season\n",
    "df.reset_index\n",
    "df.tail\n"
   ],
   "outputs": [
    {
     "output_type": "execute_result",
     "data": {
      "text/plain": [
       "<bound method NDFrame.tail of        Unnamed: 0    Year             Player  Pos   Age   Tm     G    GS  \\\n",
       "0               0  1950.0    Curly Armstrong  G-F  31.0  FTW  63.0   NaN   \n",
       "1               1  1950.0       Cliff Barker   SG  29.0  INO  49.0   NaN   \n",
       "2               2  1950.0      Leo Barnhorst   SF  25.0  CHS  67.0   NaN   \n",
       "3               3  1950.0         Ed Bartels    F  24.0  TOT  15.0   NaN   \n",
       "4               4  1950.0         Ed Bartels    F  24.0  DNN  13.0   NaN   \n",
       "...           ...     ...                ...  ...   ...  ...   ...   ...   \n",
       "24619       24686  2017.0        Cody Zeller   PF  24.0  CHO  62.0  58.0   \n",
       "24620       24687  2017.0       Tyler Zeller    C  27.0  BOS  51.0   5.0   \n",
       "24621       24688  2017.0  Stephen Zimmerman    C  20.0  ORL  19.0   0.0   \n",
       "24622       24689  2017.0        Paul Zipser   SF  22.0  CHI  44.0  18.0   \n",
       "24623       24690  2017.0        Ivica Zubac    C  19.0  LAL  38.0  11.0   \n",
       "\n",
       "           MP     FG  ...    FT%    ORB    DRB    TRB    AST   STL   BLK  \\\n",
       "0         NaN  144.0  ...  0.705    NaN    NaN    NaN  176.0   NaN   NaN   \n",
       "1         NaN  102.0  ...  0.708    NaN    NaN    NaN  109.0   NaN   NaN   \n",
       "2         NaN  174.0  ...  0.698    NaN    NaN    NaN  140.0   NaN   NaN   \n",
       "3         NaN   22.0  ...  0.559    NaN    NaN    NaN   20.0   NaN   NaN   \n",
       "4         NaN   21.0  ...  0.548    NaN    NaN    NaN   20.0   NaN   NaN   \n",
       "...       ...    ...  ...    ...    ...    ...    ...    ...   ...   ...   \n",
       "24619  1725.0  253.0  ...  0.679  135.0  270.0  405.0   99.0  62.0  58.0   \n",
       "24620   525.0   78.0  ...  0.564   43.0   81.0  124.0   42.0   7.0  21.0   \n",
       "24621   108.0   10.0  ...  0.600   11.0   24.0   35.0    4.0   2.0   5.0   \n",
       "24622   843.0   88.0  ...  0.775   15.0  110.0  125.0   36.0  15.0  16.0   \n",
       "24623   609.0  126.0  ...  0.653   41.0  118.0  159.0   30.0  14.0  33.0   \n",
       "\n",
       "        TOV     PF    PTS  \n",
       "0       NaN  217.0  458.0  \n",
       "1       NaN   99.0  279.0  \n",
       "2       NaN  192.0  438.0  \n",
       "3       NaN   29.0   63.0  \n",
       "4       NaN   27.0   59.0  \n",
       "...     ...    ...    ...  \n",
       "24619  65.0  189.0  639.0  \n",
       "24620  20.0   61.0  178.0  \n",
       "24621   3.0   17.0   23.0  \n",
       "24622  40.0   78.0  240.0  \n",
       "24623  30.0   66.0  284.0  \n",
       "\n",
       "[24624 rows x 31 columns]>"
      ]
     },
     "metadata": {},
     "execution_count": 1
    }
   ],
   "metadata": {}
  },
  {
   "cell_type": "code",
   "execution_count": 2,
   "source": [
    "#data cleaning->need to replace missing values needed for PER calculation\n",
    "#used this site to help clean: https://www.basketball-reference.com/about/per.html\n",
    "\n",
    "df['3P'] = df['3P'].fillna(0)\n",
    "df['3PA'] = df['3PA'].fillna(0)\n",
    "df['3P%'] = df['3P%'].fillna(0)\n",
    "df['STL'] = df['STL'].fillna(0)\n",
    "df['BLK'] = df['BLK'].fillna(0)\n",
    "df['TOV'] = df['TOV'].fillna(0)\n",
    "\n",
    "df['ORB'] = df['ORB'].fillna(.3 * df['TRB'])\n",
    "df['DRB'] = df['DRB'].fillna(.7 * df['TRB'])\n",
    "\n",
    "df['PER'] = ((df['FG'] * 85.910) + (df['STL'] * 53.897) + (df['3P']* 51.757 )+ (df['FT']* 46.845 )+ (df['BLK'] * 39.190) + (df['ORB'] * 39.190) + (df['AST'] * 34.677 )+ (df['DRB'] * 14.707 )- (df['PF'] * 17.174) - ((df['FTA']-df['FT']) * 20.091) - ((df['FGA']-df['FG']) * 39.190) - (df['TOV'] * 53.897))/df['MP'] \n",
    "\n",
    "\n",
    "df['PER'] = df['PER'].fillna(15) #estimates players prior to 1952 to be avg (15)\n",
    "\n",
    "\n",
    "#df.to_csv(\"NBA_STATS_WITH_PER.csv\")"
   ],
   "outputs": [],
   "metadata": {}
  },
  {
   "cell_type": "code",
   "execution_count": 3,
   "source": [
    "#Add player IDs->differentiate repeated player names\n",
    "df['ID'] = df['Player']\n",
    "names_dict = {}\n",
    "for idx, name in enumerate(df['Player']):\n",
    "\n",
    "    if name not in names_dict:\n",
    "        names_dict[name] = 1\n",
    "    else:\n",
    "        names_dict[name] = names_dict[name] + 1\n",
    "    \n",
    "\n",
    "    \n",
    "    value = str(df.at[idx, 'Player'])+\"_\"+str(names_dict[name])\n",
    "    df.at[idx, 'ID'] = value\n",
    "\n",
    "#add col to front\n",
    "id_col = df.pop('ID')\n",
    "\n",
    "df.insert(0, 'ID', id_col)\n",
    "\n",
    "df = df.drop(df.columns[1], axis =1) #drop redundant index col\n",
    "df\n",
    "df.to_csv(\"NBA_STATS_WITH_PER.csv\") #added IDs to same csv"
   ],
   "outputs": [],
   "metadata": {}
  }
 ],
 "metadata": {
  "orig_nbformat": 4,
  "language_info": {
   "name": "python",
   "version": "3.8.8",
   "mimetype": "text/x-python",
   "codemirror_mode": {
    "name": "ipython",
    "version": 3
   },
   "pygments_lexer": "ipython3",
   "nbconvert_exporter": "python",
   "file_extension": ".py"
  },
  "kernelspec": {
   "name": "python3",
   "display_name": "Python 3.8.8 64-bit ('base': conda)"
  },
  "interpreter": {
   "hash": "efd4964990185c13ca0e5aa6154f269c7f807e4db46fbb4728483cd33ac05b93"
  }
 },
 "nbformat": 4,
 "nbformat_minor": 2
}